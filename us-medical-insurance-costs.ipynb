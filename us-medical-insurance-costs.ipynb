{
 "cells": [
  {
   "cell_type": "markdown",
   "metadata": {},
   "source": [
    "# U.S. Medical Insurance Costs"
   ]
  },
  {
   "cell_type": "markdown",
   "metadata": {},
   "source": [
    "Goal #1: Average age of insured individuals"
   ]
  },
  {
   "cell_type": "code",
   "execution_count": 47,
   "metadata": {},
   "outputs": [
    {
     "name": "stdout",
     "output_type": "stream",
     "text": [
      "1338\n",
      "The average age of an insured person is 39.0 years old.\n"
     ]
    }
   ],
   "source": [
    "import pandas as pd\n",
    "\n",
    "ages = []\n",
    "average_age = 0\n",
    "total_age = 0\n",
    "entry_count = 0\n",
    "\n",
    "#open insurance file\n",
    "insurance_data = pd.read_csv('insurance.csv',delimiter = ',')\n",
    "#allows to return specific number of rows\n",
    "insurance_data.head()  \n",
    "\n",
    "#looks specifically at the age column\n",
    "ages = insurance_data['age']\n",
    "\n",
    "#iterates through the age column to get the number of entries, age column total and the rounded average.\n",
    "for a in ages:\n",
    "    entry_count += 1\n",
    "    total_age += a\n",
    "average_age = round(total_age / entry_count, 0)\n",
    "print(entry_count)\n",
    "print(\"The average age of an insured person is \" + str(average_age) + \" years old.\")"
   ]
  },
  {
   "cell_type": "markdown",
   "metadata": {},
   "source": [
    "Goal #2: Highest average of kids between smokers & non-smokers"
   ]
  },
  {
   "cell_type": "code",
   "execution_count": 45,
   "metadata": {},
   "outputs": [
    {
     "name": "stdout",
     "output_type": "stream",
     "text": [
      "The average number of children for smokers & non-smokers are 1.11 and 1.097 per person respectively. A negligible difference.\n"
     ]
    }
   ],
   "source": [
    "import csv\n",
    "\n",
    "total_smoker_kids = 0\n",
    "total_non_smoker_kids = 0\n",
    "count_s = 0\n",
    "count_ns = 0\n",
    "\n",
    "with open('insurance.csv', 'r') as insurance_data:\n",
    "    datareader = insurance_data.readlines()\n",
    "    for data in datareader:\n",
    "        if 'yes' in data:\n",
    "            count_s += 1\n",
    "            total_smoker_kids += int(data.split(',')[3])\n",
    "            smoker_kids_average = round(total_smoker_kids / count_s,2)\n",
    "        if 'no' in data:\n",
    "            count_ns += 1\n",
    "            total_non_smoker_kids += int(data.split(',')[3])\n",
    "            non_smoker_kids_average = round(total_non_smoker_kids / count_ns,3)\n",
    "print(\"The average number of children for smokers & non-smokers are \"+str(smoker_kids_average)+\" and \" + str(non_smoker_kids_average)+\" per person respectively. A negligible difference.\")\n",
    "\n"
   ]
  },
  {
   "cell_type": "markdown",
   "metadata": {},
   "source": [
    "Goal #3: Region with highest average premium payment"
   ]
  },
  {
   "cell_type": "code",
   "execution_count": 98,
   "metadata": {},
   "outputs": [
    {
     "name": "stdout",
     "output_type": "stream",
     "text": [
      "The region with the highest average payment is the Southeast at: 12378.85\n",
      "The Average insurance payment by region:  Southwest: $12346.94  Southeast: $12378.85  Northwest: $12346.94  Northeast: $12378.85\n"
     ]
    }
   ],
   "source": [
    "import csv\n",
    "trap = 0\n",
    "\n",
    "count_sw = 0\n",
    "sw_total = 0\n",
    "\n",
    "count_se = 0\n",
    "se_total = 0\n",
    "\n",
    "count_nw = 0\n",
    "nw_total = 0\n",
    "\n",
    "count_ne = 0\n",
    "ne_total = 0\n",
    "\n",
    "region_totals = []\n",
    "\n",
    "with open('insurance.csv', 'r') as insurance_data:\n",
    "    datareader = insurance_data.readlines()\n",
    "    for data in datareader:\n",
    "        if 'region' in data:\n",
    "            trap += 1\n",
    "        elif 'southwest' in data:\n",
    "            count_sw += 1\n",
    "            sw_total += round(float(data.split(',')[6]), 1)\n",
    "            sw_avg = round(sw_total / count_sw, 2)\n",
    "            \n",
    "        elif 'southeast' in data:\n",
    "            count_se += 1\n",
    "            se_total += round(float(data.split(',')[6]), 1)\n",
    "            se_avg = round(sw_total / count_sw, 2)\n",
    "        elif 'northwest' in data:\n",
    "            count_nw += 1\n",
    "            nw_total += round(float(data.split(',')[6]), 1)\n",
    "            nw_avg = round(sw_total / count_sw, 2)\n",
    "        else:\n",
    "            count_ne += 1\n",
    "            ne_total += round(float(data.split(',')[6]), 1)\n",
    "            ne_avg = round(sw_total / count_sw, 2)\n",
    "region_totals.append(sw_avg)\n",
    "region_totals.append(se_avg)\n",
    "region_totals.append(ne_avg)\n",
    "region_totals.append(nw_avg)\n",
    "\n",
    "            \n",
    "print(\"The region with the highest average payment is the Southeast at: \" + str(max(region_totals)))        \n",
    "print(\"The Average insurance payment by region:  Southwest: $\" + str(sw_avg) +\"  Southeast: $\" + str(se_avg) + \"  Northwest: $\" + str(nw_avg) + \"  Northeast: $\" + str(ne_avg))"
   ]
  },
  {
   "cell_type": "markdown",
   "metadata": {},
   "source": [
    "Goal #4: What percentage of customers are smokers?"
   ]
  },
  {
   "cell_type": "code",
   "execution_count": 46,
   "metadata": {},
   "outputs": [
    {
     "name": "stdout",
     "output_type": "stream",
     "text": [
      "274 of our customers smoke tobacco products, while 1065 do not. This makes 25.7% of or clients smokers.\n"
     ]
    }
   ],
   "source": [
    "import csv\n",
    "\n",
    "smoker = 0\n",
    "non_smoker = 0\n",
    "\n",
    "with open('insurance.csv', 'r') as insurance_data:\n",
    "    datareader = csv.reader(insurance_data, delimiter = ',')\n",
    "    for row in datareader:\n",
    "        if 'yes' in  row:\n",
    "            smoker += 1\n",
    "        else:\n",
    "            non_smoker += 1\n",
    "ratio = smoker/non_smoker\n",
    "\n",
    "print(str(smoker) +\" of our customers smoke tobacco products, while \" + str(non_smoker) +\" do not. This makes \" + str(round(ratio * 100,1)) + \"% of or clients smokers.\")"
   ]
  },
  {
   "cell_type": "code",
   "execution_count": null,
   "metadata": {},
   "outputs": [],
   "source": []
  }
 ],
 "metadata": {
  "kernelspec": {
   "display_name": "Python 3 (ipykernel)",
   "language": "python",
   "name": "python3"
  },
  "language_info": {
   "codemirror_mode": {
    "name": "ipython",
    "version": 3
   },
   "file_extension": ".py",
   "mimetype": "text/x-python",
   "name": "python",
   "nbconvert_exporter": "python",
   "pygments_lexer": "ipython3",
   "version": "3.9.12"
  }
 },
 "nbformat": 4,
 "nbformat_minor": 4
}
